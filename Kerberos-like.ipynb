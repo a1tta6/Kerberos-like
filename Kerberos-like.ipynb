{
 "cells": [
  {
   "cell_type": "code",
   "execution_count": 86,
   "metadata": {},
   "outputs": [],
   "source": [
    "from simplecrypt import encrypt, decrypt\n",
    "import json\n",
    "import datetime"
   ]
  },
  {
   "cell_type": "code",
   "execution_count": 88,
   "metadata": {},
   "outputs": [
    {
     "name": "stdout",
     "output_type": "stream",
     "text": [
      "{'timestamp': '11/05/2022 23:56:19', 'timetolive': 600, 'key': 'aboba', 'name': 'Bob'}\n",
      "Время действия пароля не истекло?  False\n",
      "Кто получатель?  Bob\n",
      "Ключ трента:  aboba\n",
      "b'sc\\x00\\x02\\xc0\\xd1\\x807r\\xdf\\x8c>\\xd5>\\xec\\x0cO6(\\xda\\xcf\\xcft\\xc2\\x7f\\xb1\\xb8a\\xafYL \\xfc\\xf9\\x1bD\\x94j\\xfa,\\xb4\\x1d\\xf0(x\\x03\\x02I\"\\xe4\\x95B\\x010\\xcf\\xa9\\x01\\xe8\\xe8!\\xac\\xd2\\xea.<\\xa5\\xbeq\\xe1p\\xca\\x99@\\xdc\\xb5\\x02g\\x08\\xc2\\xf6K\\xe5!n\\xd9\\xe94\\xbfo\\xc7\\xd0\\xa0(\\x83\\xe1o\\xc3^\\xd5%~e@\\x1e\\x88U0\\xa7n\\xe5M\\xf2\\xaeE\\xad3\\x11q\\x98\\xfb\\xb1\\x17D\\x91\\xf6\\xfb\\x00\\xa5\\xb3\\xb0L\\xa7CG\\xe8\\xd9\\xb1\\x89\\x15\\xa1\\x11\\xd9\\x17\\xc8\\x0f(<\\xd3\\xd1\\x85=\\xe4\\xda\\x89-\\xce'\n",
      "b'sc\\x00\\x02\\xdd\\x83\\x12\\x94>9h\\x9a9-V~\\xaf\\x8c3irWc_#\\xcb\\x95\\xed>h.\\xd7\\x18\\xe8\\xc3\\xc4\\x02\\x96_R\\xd5\\xa2\\xf4v.i\\\\(\\\\\\x0f.(/Z\\xa6YY\\x02\\xd8a\\xea\\xe0\\x97Q\\xca\\xab\\x89\\xa7\\x1ex\\xb5{\\x14\\xea,\\x8b\\xbb\\xe4\\x0b&6\\\\o\\xe4\\x87\\xb0\\xf8\\x98\\x1e\\xb3\\xfd$\\xed\\\\\\xb3\\x1d\\x1b\\x13`\\xa8\\xa1w\\xe4\\xd2l\\xb2\\xd2x\\x96\\xb9\\x1c\\xe0\\xa1\\x07\\x1a\\x01?\\\\#\\t\\xce'\n"
     ]
    }
   ],
   "source": [
    "alice_key = 'itisaliceencryptionkey'\n",
    "firstpart = b'sc\\x00\\x02\\xd3\\x14xT\\xb5\\xff\\xc6\\xca\\xa8\\xad\\x04 \\x0c\\xe4\\x1c\\xa8\\x99\\xd7\\xc5\\xac\\x7f\\xf7\\xed\\x89\\'\\xe3\\x8e\\x19\\xfe\\xdf\\xb3+\\xd3\\xb1\\xaal\\x19\\xb8$U\\x8a\\x1c\\xdd\\t\\xf3-\\xba[\\x8b\\xc8XZ\\x9c\\xa2\\xb1\\xaa6\\x19\\x82\\xba\\xf4\\xe5J\\x92K\\xde\\xf8o\\xb9\\xc9k\\x08\\xacj\\x1e)\\xa5\\x01\\xe8\\x81\\xaa\\xa5\\xfb\\x14\\xe0\\x07\\xbe\\xdf\\x1c\\xfc\\xca\\xa51\\x03=\\x8c\\xdbV+\\xf2\\x8eX /uO\\xf7Xv\\x91\\x04\"\\xdd`\\xd5\\xf3n\\xd3\\x1d\\xd1\"\\xba\\x8azq\\x9dE\\xdc\\n\\x9d\\xf2\\x0e\\x8a\\xd4B8\\xb0\\x82(\\xb4\\x12m\\x84\\xbb\\xb9\\x13\\xf0\\x94k\\xe5'\n",
    "secondpart = b'sc\\x00\\x02\\xc0\\xd1\\x807r\\xdf\\x8c>\\xd5>\\xec\\x0cO6(\\xda\\xcf\\xcft\\xc2\\x7f\\xb1\\xb8a\\xafYL \\xfc\\xf9\\x1bD\\x94j\\xfa,\\xb4\\x1d\\xf0(x\\x03\\x02I\"\\xe4\\x95B\\x010\\xcf\\xa9\\x01\\xe8\\xe8!\\xac\\xd2\\xea.<\\xa5\\xbeq\\xe1p\\xca\\x99@\\xdc\\xb5\\x02g\\x08\\xc2\\xf6K\\xe5!n\\xd9\\xe94\\xbfo\\xc7\\xd0\\xa0(\\x83\\xe1o\\xc3^\\xd5%~e@\\x1e\\x88U0\\xa7n\\xe5M\\xf2\\xaeE\\xad3\\x11q\\x98\\xfb\\xb1\\x17D\\x91\\xf6\\xfb\\x00\\xa5\\xb3\\xb0L\\xa7CG\\xe8\\xd9\\xb1\\x89\\x15\\xa1\\x11\\xd9\\x17\\xc8\\x0f(<\\xd3\\xd1\\x85=\\xe4\\xda\\x89-\\xce'\n",
    "decrypted_first_part = json.loads(decrypt(alice_key, firstpart).decode('utf-8'))\n",
    "print(decrypted_first_part)\n",
    "time = decrypted_first_part['timestamp']\n",
    "timetolive = decrypted_first_part['timetolive']\n",
    "\n",
    "delta = datetime.datetime.now() - datetime.datetime.strptime(time, \"%d/%m/%Y %H:%M:%S\")\n",
    "datetime.datetime.now()\n",
    "receiver = decrypted_first_part['name']\n",
    "print(\"Время действия пароля не истекло? \", delta < datetime.timedelta(minutes=timetolive/60))\n",
    "print(\"Кто получатель? \", receiver)\n",
    "K = decrypted_first_part['key']\n",
    "print(\"Ключ трента: \", K)\n",
    "first = secondpart\n",
    "dict = {'name': 'Alice', 'timestamp': time}\n",
    "second = encrypt(K, bytes(json.dumps(dict), encoding='utf-8'))\n",
    "\n",
    "print(first)\n",
    "print(second)\n",
    "\n",
    " "
   ]
  },
  {
   "cell_type": "code",
   "execution_count": 89,
   "metadata": {},
   "outputs": [
    {
     "name": "stdout",
     "output_type": "stream",
     "text": [
      "OK\n"
     ]
    }
   ],
   "source": [
    "encr_mess = b'sc\\x00\\x02]\\xf5fx\\xad\\xd6\\xf9\\x10}\\x00\\xa8M.9\\xfc\\xf1t\\xcf\\xd8(a9CY\\xfaD\\x89\\xe9\\x04\\xe0*\\xae!@\\xe1\\x16\\xc3\\x02\\x8c\\xdb\\xf9\\x92\\x08\\xed\\xbb^\\x9cU\\x84\\xc2 \\x03\\xe4\\xf4\\x00\\xbb\\x0f\\xec\\xc6\\xf6o\\x03\\n\\x13\\xec_\\xae\\xe1\\x95i\\xc9\\xb9\\xee\\xael\\x16[\\x99}M\\xf6\\xdc\\xc4'\n",
    "decr_mess = decrypt(K, encr_mess).decode('utf-8')\n",
    "delta = datetime.datetime.strptime(decr_mess, \"%d/%m/%Y %H:%M:%S\") - datetime.datetime.strptime(time, \"%d/%m/%Y %H:%M:%S\")\n",
    "if (delta.seconds==1):\n",
    "    print('OK')"
   ]
  }
 ],
 "metadata": {
  "interpreter": {
   "hash": "cd10e2f833094a6858cd26f4eca3ae71784d10e3ab837a3a8db9e4a5fb23a29a"
  },
  "kernelspec": {
   "display_name": "Python 3.10.3 64-bit",
   "language": "python",
   "name": "python3"
  },
  "language_info": {
   "codemirror_mode": {
    "name": "ipython",
    "version": 3
   },
   "file_extension": ".py",
   "mimetype": "text/x-python",
   "name": "python",
   "nbconvert_exporter": "python",
   "pygments_lexer": "ipython3",
   "version": "3.10.3"
  },
  "orig_nbformat": 4
 },
 "nbformat": 4,
 "nbformat_minor": 2
}
